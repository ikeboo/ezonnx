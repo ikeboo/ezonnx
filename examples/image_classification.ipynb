{
 "cells": [
  {
   "cell_type": "markdown",
   "id": "b0f8cc4e",
   "metadata": {},
   "source": [
    "### Image classfication"
   ]
  },
  {
   "cell_type": "code",
   "execution_count": null,
   "id": "77c0637d",
   "metadata": {},
   "outputs": [
    {
     "name": "stdout",
     "output_type": "stream",
     "text": [
      "Pred_class:1, Score:0.99\n"
     ]
    }
   ],
   "source": [
    "from ezonnx import ImageClassifier, get_weights\n",
    "\n",
    "# Loading MobileNetv4 for test. Please use your custom model path for deployment.\n",
    "# You can load many other models like ConvNeXt, ViT, EfficientNet, etc.\n",
    "onnx_path = get_weights(\"onnx-community/mobilenetv4_conv_small.e2400_r224_in1k\",\n",
    "                         \"onnx/model.onnx\")\n",
    "\n",
    "# Create model & infer\n",
    "classifier = ImageClassifier(onnx_path, size=224)\n",
    "ret = classifier(\"images/goldfish.jpg\")\n",
    "print(f\"Pred_class:{ret.class_id}, Score:{ret.score:.2f}\")"
   ]
  },
  {
   "cell_type": "code",
   "execution_count": null,
   "id": "b1f7f85c",
   "metadata": {},
   "outputs": [],
   "source": []
  }
 ],
 "metadata": {
  "kernelspec": {
   "display_name": "ez-onnx",
   "language": "python",
   "name": "python3"
  },
  "language_info": {
   "codemirror_mode": {
    "name": "ipython",
    "version": 3
   },
   "file_extension": ".py",
   "mimetype": "text/x-python",
   "name": "python",
   "nbconvert_exporter": "python",
   "pygments_lexer": "ipython3",
   "version": "3.12.11"
  }
 },
 "nbformat": 4,
 "nbformat_minor": 5
}
